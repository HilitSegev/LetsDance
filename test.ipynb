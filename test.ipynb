{
 "cells": [
  {
   "cell_type": "markdown",
   "metadata": {},
   "source": [
    "# Plot Skeleton Tests"
   ]
  },
  {
   "cell_type": "code",
   "execution_count": 104,
   "metadata": {},
   "outputs": [],
   "source": [
    "import matplotlib.pyplot as plt\n",
    "import pandas as pd"
   ]
  },
  {
   "cell_type": "code",
   "execution_count": 105,
   "metadata": {},
   "outputs": [
    {
     "data": {
      "image/png": "[encoded data removed]",
      "text/plain": [
       "<Figure size 432x288 with 1 Axes>"
      ]
     },
     "metadata": {
      "needs_background": "light"
     },
     "output_type": "display_data"
    }
   ],
   "source": [
    "plt.plot((0,1),(1,23))\n",
    "plt.show()"
   ]
  },
  {
   "cell_type": "code",
   "execution_count": 106,
   "metadata": {},
   "outputs": [],
   "source": [
    "pose_df = pd.read_csv('resources/pose_dfs/demo_vid3_pose_df.csv', index_col=0)"
   ]
  },
  {
   "cell_type": "code",
   "execution_count": 107,
   "metadata": {},
   "outputs": [],
   "source": [
    "v = pose_df.applymap(eval).loc[10]"
   ]
  },
  {
   "cell_type": "code",
   "execution_count": 108,
   "metadata": {},
   "outputs": [
    {
     "data": {
      "text/plain": [
       "nose              (0.19632474, 0.43062532, 0.57348716)\n",
       "left_eye          (0.18174373, 0.44592234, 0.76520467)\n",
       "right_eye          (0.18525474, 0.41752076, 0.5170977)\n",
       "left_ear           (0.20505825, 0.46723956, 0.6909349)\n",
       "right_ear         (0.20494673, 0.39773673, 0.58651036)\n",
       "left_shoulder       (0.27675617, 0.5161878, 0.5469415)\n",
       "right_shoulder       (0.272102, 0.35640782, 0.7096067)\n",
       "left_elbow        (0.29500467, 0.62941897, 0.61378044)\n",
       "right_elbow       (0.29459327, 0.29931527, 0.59007204)\n",
       "left_wrist           (0.310206, 0.5768233, 0.33682343)\n",
       "right_wrist       (0.32694972, 0.36909065, 0.40746602)\n",
       "left_hip             (0.503144, 0.5014646, 0.88631195)\n",
       "right_hip            (0.505942, 0.40280962, 0.8677472)\n",
       "left_knee           (0.7023124, 0.52840364, 0.8316731)\n",
       "right_knee         (0.65588486, 0.36993843, 0.6734023)\n",
       "left_ankle         (0.83228743, 0.5367148, 0.82444656)\n",
       "right_ankle         (0.7112407, 0.3935594, 0.47274423)\n",
       "Name: 10, dtype: object"
      ]
     },
     "execution_count": 108,
     "metadata": {},
     "output_type": "execute_result"
    }
   ],
   "source": [
    "v"
   ]
  },
  {
   "cell_type": "code",
   "execution_count": 100,
   "metadata": {},
   "outputs": [],
   "source": [
    "def plot_bone(v, bone):\n",
    "    plt.plot([x[1] for x in v.loc[bone]], [x[0] for x in v.loc[bone]], linewidth=2, color='b')"
   ]
  },
  {
   "cell_type": "code",
   "execution_count": 101,
   "metadata": {},
   "outputs": [
    {
     "data": {
      "image/png": "[encoded data removed]",
      "text/plain": [
       "<Figure size 432x288 with 1 Axes>"
      ]
     },
     "metadata": {
      "needs_background": "light"
     },
     "output_type": "display_data"
    }
   ],
   "source": [
    "# plot nodes\n",
    "plt.scatter([x[1] for x in v], [x[0] for x in v], s=6)\n",
    "\n",
    "# plot bones\n",
    "for bone in [\n",
    "    ['nose', 'left_eye'],\n",
    "    ['nose', 'right_eye'],\n",
    "    ['left_eye', 'left_ear'],\n",
    "    ['right_eye', 'right_ear'],\n",
    "    ['nose', 'left_shoulder'],\n",
    "    ['nose', 'right_shoulder'],\n",
    "    ['left_shoulder', 'left_elbow'],\n",
    "    ['left_elbow', 'left_wrist'],\n",
    "    ['right_shoulder', 'right_elbow'],\n",
    "    ['right_elbow', 'right_wrist'],\n",
    "    ['left_shoulder', 'right_shoulder'],\n",
    "    ['left_shoulder', 'left_hip'],\n",
    "    ['right_shoulder', 'right_hip'],\n",
    "    ['left_hip', 'right_hip'],\n",
    "    ['left_hip', 'left_knee'],\n",
    "    ['left_knee', 'left_ankle'],\n",
    "    ['right_hip', 'right_knee'],\n",
    "    ['right_knee', 'right_ankle']\n",
    "    ]:\n",
    "    plot_bone(v, bone)\n",
    "\n",
    "plt.gca().invert_yaxis()\n"
   ]
  },
  {
   "cell_type": "markdown",
   "metadata": {},
   "source": [
    "# Add Background Test"
   ]
  },
  {
   "cell_type": "code",
   "execution_count": 130,
   "metadata": {},
   "outputs": [],
   "source": [
    "import sys\n",
    "import pandas as pd\n",
    "import numpy as np\n",
    "\n",
    "from pose_estimator import pose_estimation, skeleton_creator, consts\n",
    "from video_processing import video_processor as vp\n",
    "from outliers_handling import outliers_detector\n",
    "from cloud_storage import cloud_manager\n",
    "import moviepy.editor as mp"
   ]
  },
  {
   "cell_type": "code",
   "execution_count": 118,
   "metadata": {},
   "outputs": [],
   "source": [
    "# load resources for testing; will get from server\n",
    "video_path = 'resources/videos/demo_vid3.mp4'\n",
    "bg_img = None\n",
    "\n",
    "# metadata extraction - width, height, fps, video length\n",
    "metadata = vp.get_metadata_for_video(video_path)\n",
    "\n",
    "# set black image as background if no background is given\n",
    "if bg_img is None:\n",
    "    bg_img = np.zeros((metadata['width'], metadata['height']))\n",
    "\n",
    "# load data from cache in cloud\n",
    "pose_df = cloud_manager.load_pose_df(video_path)\n",
    "\n",
    "if pose_df is None:\n",
    "    # video to images\n",
    "    images_list = vp.video_to_images(video_path, save_to_disk=False)\n",
    "    \n",
    "    # pose estimation\n",
    "    pose_df = pose_estimation.detect_pose(images_list)\n",
    "\n",
    "    # TODO: Save results to cloud storage\n",
    "    results_cache_success = cloud_manager.save_pose_df(pose_df, video_path)\n",
    "\n",
    "# when loading from csv, need to eval tuples\n",
    "try:\n",
    "    pose_df = pose_df.applymap(eval)\n",
    "except:\n",
    "    pass\n",
    "\n",
    "# detect anomalies\n",
    "anomaly_inds = outliers_detector.detect_outliers(pose_df)\n",
    "\n",
    "# fix anomalies\n",
    "fixed_pose_df = outliers_detector.fix_outliers(pose_df, anomaly_inds)"
   ]
  },
  {
   "cell_type": "code",
   "execution_count": 132,
   "metadata": {},
   "outputs": [],
   "source": [
    "def plot_bone(xs, ys, bone):\n",
    "    plt.plot(xs.loc[bone], ys.loc[bone], linewidth=2, color='b')\n",
    "\n",
    "\n",
    "def plot_skeleton(xs, ys):\n",
    "    # plot nodes\n",
    "    plt.scatter(xs, ys, s=6)\n",
    "\n",
    "    # plot bones\n",
    "    for bone in consts.BONES:\n",
    "        plot_bone(xs, ys, list(bone))\n",
    "\n",
    "    plt.gca().invert_yaxis()"
   ]
  },
  {
   "cell_type": "code",
   "execution_count": 136,
   "metadata": {},
   "outputs": [
    {
     "data": {
      "image/png": "[encoded data removed]",
      "text/plain": [
       "<Figure size 432x288 with 1 Axes>"
      ]
     },
     "metadata": {
      "needs_background": "light"
     },
     "output_type": "display_data"
    }
   ],
   "source": [
    "final_images_list = []\n",
    "# load background_image\n",
    "\n",
    "# change ratios of the skeleton to fit image shape\n",
    "\n",
    "v = fixed_pose_df.iloc[0]\n",
    "xs, ys, scores = v.apply(lambda x: x[1]), v.apply(lambda x: x[0]), v.apply(lambda x: x[2])\n",
    "\n",
    "# scale\n",
    "xs *= bg_img.shape[1]\n",
    "ys *= bg_img.shape[0]\n",
    "\n",
    "# TODO: filter high scores only\n",
    "\n",
    "# \"plot\" image\n",
    "plt.imshow(bg_img)\n",
    "\n",
    "# add skeleton\n",
    "plot_skeleton(xs, ys)\n",
    "\n",
    "# TODO: add emoji head\n",
    "\n",
    "# add final image to list of final images\n",
    "plt.gca().invert_yaxis()"
   ]
  },
  {
   "cell_type": "code",
   "execution_count": null,
   "metadata": {},
   "outputs": [],
   "source": [
    "pose_df = pd.read_csv('resources/pose_dfs/demo_vid3_pose_df.csv', index_col=0)"
   ]
  },
  {
   "cell_type": "code",
   "execution_count": null,
   "metadata": {},
   "outputs": [],
   "source": [
    "v = pose_df.applymap(eval).loc[10]\n",
    "# metadata extraction - width, height, fps, video length\n",
    "metadata = vp.get_metadata_for_video(video_path)\n",
    "\n",
    "# set black image as background if no background is given\n",
    "if bg_img is None:\n",
    "    bg_img = np.zeros((metadata['width'], metadata['height']))"
   ]
  },
  {
   "cell_type": "code",
   "execution_count": null,
   "metadata": {},
   "outputs": [
    {
     "data": {
      "text/plain": [
       "nose              (0.19632474, 0.43062532, 0.57348716)\n",
       "left_eye          (0.18174373, 0.44592234, 0.76520467)\n",
       "right_eye          (0.18525474, 0.41752076, 0.5170977)\n",
       "left_ear           (0.20505825, 0.46723956, 0.6909349)\n",
       "right_ear         (0.20494673, 0.39773673, 0.58651036)\n",
       "left_shoulder       (0.27675617, 0.5161878, 0.5469415)\n",
       "right_shoulder       (0.272102, 0.35640782, 0.7096067)\n",
       "left_elbow        (0.29500467, 0.62941897, 0.61378044)\n",
       "right_elbow       (0.29459327, 0.29931527, 0.59007204)\n",
       "left_wrist           (0.310206, 0.5768233, 0.33682343)\n",
       "right_wrist       (0.32694972, 0.36909065, 0.40746602)\n",
       "left_hip             (0.503144, 0.5014646, 0.88631195)\n",
       "right_hip            (0.505942, 0.40280962, 0.8677472)\n",
       "left_knee           (0.7023124, 0.52840364, 0.8316731)\n",
       "right_knee         (0.65588486, 0.36993843, 0.6734023)\n",
       "left_ankle         (0.83228743, 0.5367148, 0.82444656)\n",
       "right_ankle         (0.7112407, 0.3935594, 0.47274423)\n",
       "Name: 10, dtype: object"
      ]
     },
     "metadata": {},
     "output_type": "display_data"
    }
   ],
   "source": [
    "generate_images(pose_df, 'sticklight', np)"
   ]
  },
  {
   "cell_type": "code",
   "execution_count": null,
   "metadata": {},
   "outputs": [],
   "source": []
  },
  {
   "cell_type": "code",
   "execution_count": 5,
   "metadata": {},
   "outputs": [],
   "source": [
    "def tuple_mean(tuple_of_tuples):\n",
    "    return tuple(sum([t[i] for t in tuple_of_tuples])/len(tuple_of_tuples) for i in range(len(tuple_of_tuples[0])))"
   ]
  },
  {
   "cell_type": "code",
   "execution_count": 8,
   "metadata": {},
   "outputs": [
    {
     "data": {
      "text/plain": [
       "(1.0, 2.3333333333333335, 4.0)"
      ]
     },
     "execution_count": 8,
     "metadata": {},
     "output_type": "execute_result"
    }
   ],
   "source": [
    "tuple_mean(((1,2,3), (1,3,5),    (1,2,4)))"
   ]
  },
  {
   "cell_type": "code",
   "execution_count": null,
   "metadata": {},
   "outputs": [],
   "source": []
  }
 ],
 "metadata": {
  "interpreter": {
   "hash": "1790da894600e72c27653f09e24a3b8aeafe00e41dc1c8cb5c40ee142a85b1c9"
  },
  "kernelspec": {
   "display_name": "Python 3.8.10 ('.venv': venv)",
   "language": "python",
   "name": "python3"
  },
  "language_info": {
   "codemirror_mode": {
    "name": "ipython",
    "version": 3
   },
   "file_extension": ".py",
   "mimetype": "text/x-python",
   "name": "python",
   "nbconvert_exporter": "python",
   "pygments_lexer": "ipython3",
   "version": "3.8.10"
  },
  "orig_nbformat": 4
 },
 "nbformat": 4,
 "nbformat_minor": 2
}
